{
 "cells": [
  {
   "cell_type": "markdown",
   "metadata": {},
   "source": [
    "# Systems of Linear Equations - Lab\n",
    "\n",
    "## Introduction\n",
    "The following scenarios present problems that can be solved as a system of equations while performing substitutions and eliminations as you saw in the previous lesson.\n",
    "\n",
    "* Solve these problems by hand, showing all the steps to work out the unknown variable values \n",
    "* Verify your answers by showing the calculated values satisfy all equations\n",
    "\n",
    "## Objectives\n",
    "\n",
    "In this lab you will: \n",
    "\n",
    "- Solve a system of equations using elimination and substitution\n",
    "\n",
    "## Exercise 1\n",
    "Jane paid 12 dollars for 4 cups of coffee and 4 cups of tea. 3 cups of coffee cost as much as 2 cups of tea. What would be the total cost of 5 cups of coffee and 5 cups of tea?\n",
    "\n",
    "### Solution\n",
    "\n",
    "> Let $x$ be the unit price of coffee and $y$ be the unit price of tea"
   ]
  },
  {
   "cell_type": "code",
   "execution_count": 1,
   "metadata": {
    "ExecuteTime": {
     "end_time": "2019-11-10T10:29:16.950913Z",
     "start_time": "2019-11-10T10:29:16.940421Z"
    }
   },
   "outputs": [
    {
     "data": {
      "text/plain": [
       "'\\nEq A) 4x + 4y = 12\\nEq B) 3x = 2y OR 3x - 2y = 0\\n\\nFrom A)\\nx = 3-y\\n\\nSubsitute in B)\\n3(3-y) - 2y = 0\\n9 - 3y - 2y = 0\\n9 - 5y = 0\\ny = 9/5 = 1.8\\n\\nSubstite in A)\\n4x + 4(1.8) = 12\\n4x = 1.2\\n\\nCheck the condition:\\n3x = 2y\\n3(1.2) = 2(1.8)\\n3.6 = 3.6\\n\\nFInal equation:\\n5x + 5y = 5(1.2) + 5(1.8) = 15\\n\\n'"
      ]
     },
     "execution_count": 1,
     "metadata": {},
     "output_type": "execute_result"
    }
   ],
   "source": [
    "# Your solution here \n",
    "# Answer: 5 cups of tea and 5 cups of coffee = 15 dollars\n",
    "\"\"\"\n",
    "Eq A) 4x + 4y = 12\n",
    "Eq B) 3x = 2y OR 3x - 2y = 0\n",
    "\n",
    "From A)\n",
    "x = 3-y\n",
    "\n",
    "Subsitute in B)\n",
    "3(3-y) - 2y = 0\n",
    "9 - 3y - 2y = 0\n",
    "9 - 5y = 0\n",
    "y = 9/5 = 1.8\n",
    "\n",
    "Substite in A)\n",
    "4x + 4(1.8) = 12\n",
    "4x = 1.2\n",
    "\n",
    "Check the condition:\n",
    "3x = 2y\n",
    "3(1.2) = 2(1.8)\n",
    "3.6 = 3.6\n",
    "\n",
    "Final equation:\n",
    "5x + 5y = 5(1.2) + 5(1.8) = 15\n",
    "\n",
    "\"\"\"\n"
   ]
  },
  {
   "cell_type": "markdown",
   "metadata": {},
   "source": [
    "## Exercise 2\n",
    "\n",
    "Jim has more money than Bob. If Jim gave Bob 20 dollars, they would have the same amount. If Bob gave Jim 22 dollars, however, Jim would then have twice as much as Bob. \n",
    "\n",
    "How much does each one actually have?\n",
    "\n",
    "### Solution\n",
    "> Let x be the amount of money that Jim has and y be the amount that Bob has "
   ]
  },
  {
   "cell_type": "code",
   "execution_count": 2,
   "metadata": {
    "ExecuteTime": {
     "end_time": "2019-11-10T10:57:46.478805Z",
     "start_time": "2019-11-10T10:57:46.474438Z"
    }
   },
   "outputs": [
    {
     "data": {
      "text/plain": [
       "\"\\nA) x - 20 = y + 20\\nB) x + 22 = 2(y - 22)\\n\\nFrom A)\\nx = y + 40 (eq C)\\n\\nSubsitute in B)\\n(y + 40) + 22 = 2(y - 22)\\nSolve for y (Bob):\\ny + 62 = 2y - 44\\ny = 62 + 44\\ny = 106 dollars\\n\\nFrom eq C)\\nx = 106 + 40\\nx = 146 (Jim's amount)\\n\\n\""
      ]
     },
     "execution_count": 2,
     "metadata": {},
     "output_type": "execute_result"
    }
   ],
   "source": [
    "# Your solution here \n",
    "\"\"\"\n",
    "A) x - 20 = y + 20\n",
    "B) x + 22 = 2(y - 22)\n",
    "\n",
    "From A)\n",
    "x = y + 40 (eq C)\n",
    "\n",
    "Subsitute in B)\n",
    "(y + 40) + 22 = 2(y - 22)\n",
    "Solve for y (Bob):\n",
    "y + 62 = 2y - 44\n",
    "y = 62 + 44\n",
    "y = 106 dollars\n",
    "\n",
    "From eq C)\n",
    "x = 106 + 40\n",
    "x = 146 (Jim's amount)\n",
    "\n",
    "\"\"\"\n",
    "\n",
    "# Answer:\n",
    "# y = 106 (Bob's amount)\n",
    "# x = 146 (Jim's amount)"
   ]
  },
  {
   "cell_type": "markdown",
   "metadata": {},
   "source": [
    "## Exercise 3\n",
    "\n",
    "Mia has 30 coins, consisting of quarters (25 cents) and dimes (10 cents), which totals to the amount 5.70 dollars.  \n",
    "How many of each does she have?\n",
    "\n",
    "### Solution\n",
    "\n",
    "> Let x be the number of quarters and y be the number of dimes "
   ]
  },
  {
   "cell_type": "code",
   "execution_count": null,
   "metadata": {},
   "outputs": [],
   "source": [
    "# Your solution here \n",
    "\"\"\"\n",
    "A) x + y = 30 coins\n",
    "B) .25x + .10y = 5.70\n",
    "\n",
    "multiply equations to eliminate y\n",
    "A) (-10) * (x + y) = 30 * (-10)\n",
    "    -10x - 10y = -300\n",
    "B) 100 * (.25x + .10y) = 100 * 5.70\n",
    "    25x + 10y = 570\n",
    "\n",
    "Add the equations:\n",
    "15x =270\n",
    "x = 18\n",
    "\n",
    "Subsitute to solve for y:\n",
    "18 + y = 30\n",
    "y = 12\n",
    "\"\"\"\n",
    "\n",
    "# Answer:\n",
    "# x = 18 quarters\n",
    "# y = 12 dimes"
   ]
  },
  {
   "cell_type": "markdown",
   "metadata": {},
   "source": [
    "## Level up (Optional)\n",
    "For more practice with linear equations, visit the following links for more complex equations:\n",
    "\n",
    "* https://www.transum.org/software/SW/Starter_of_the_day/Students/Simultaneous_Equations.asp?Level=6\n",
    "* https://www.transum.org/software/SW/Starter_of_the_day/Students/Simultaneous_Equations.asp?Level=7\n",
    "\n",
    "## Summary\n",
    "\n",
    "In this lesson, you learned how to solve linear equations by hand to find the coefficient values. You'll now move forward to have a deeper look into vectors and matrices and how Python and NumPy can help us solve more complex equations in an analytical context. "
   ]
  }
 ],
 "metadata": {
  "kernelspec": {
   "display_name": "learn-env",
   "language": "python",
   "name": "learn-env"
  },
  "language_info": {
   "codemirror_mode": {
    "name": "ipython",
    "version": 3
   },
   "file_extension": ".py",
   "mimetype": "text/x-python",
   "name": "python",
   "nbconvert_exporter": "python",
   "pygments_lexer": "ipython3",
   "version": "3.6.9"
  },
  "toc": {
   "base_numbering": 1,
   "nav_menu": {},
   "number_sections": true,
   "sideBar": true,
   "skip_h1_title": false,
   "title_cell": "Table of Contents",
   "title_sidebar": "Contents",
   "toc_cell": false,
   "toc_position": {},
   "toc_section_display": true,
   "toc_window_display": false
  },
  "varInspector": {
   "cols": {
    "lenName": 16,
    "lenType": 16,
    "lenVar": 40
   },
   "kernels_config": {
    "python": {
     "delete_cmd_postfix": "",
     "delete_cmd_prefix": "del ",
     "library": "var_list.py",
     "varRefreshCmd": "print(var_dic_list())"
    },
    "r": {
     "delete_cmd_postfix": ") ",
     "delete_cmd_prefix": "rm(",
     "library": "var_list.r",
     "varRefreshCmd": "cat(var_dic_list()) "
    }
   },
   "types_to_exclude": [
    "module",
    "function",
    "builtin_function_or_method",
    "instance",
    "_Feature"
   ],
   "window_display": true
  }
 },
 "nbformat": 4,
 "nbformat_minor": 2
}
